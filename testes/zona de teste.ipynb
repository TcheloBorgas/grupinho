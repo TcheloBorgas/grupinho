{
 "cells": [
  {
   "cell_type": "code",
   "execution_count": 2,
   "metadata": {},
   "outputs": [],
   "source": [
    "# !pip install openstacksdk\n"
   ]
  },
  {
   "cell_type": "code",
   "execution_count": null,
   "metadata": {},
   "outputs": [],
   "source": [
    "import openstack\n",
    "\n",
    "# Função para criar uma instância de VM\n",
    "def create_vm(name, image_name, flavor_name, network_name, key_name):\n",
    "    # Conectar ao OpenStack\n",
    "    conn = openstack.connect(cloud='my_cloud')\n",
    "\n",
    "    # Encontrar a imagem, o sabor e a rede\n",
    "    image = conn.compute.find_image(image_name)\n",
    "    flavor = conn.compute.find_flavor(flavor_name)\n",
    "    network = conn.network.find_network(network_name)\n",
    "\n",
    "    # Criar a instância de VM\n",
    "    instance = conn.compute.create_server(\n",
    "        name=name,\n",
    "        image_id=image.id,\n",
    "        flavor_id=flavor.id,\n",
    "        networks=[{\"uuid\": network.id}],\n",
    "        key_name=key_name,\n",
    "    )\n",
    "\n",
    "    # Aguardar a VM ficar ativa\n",
    "    conn.compute.wait_for_server(instance)\n",
    "\n",
    "    return instance\n",
    "\n",
    "# Configurações da VM\n",
    "vm_name = 'NovaVM'\n",
    "image_name = 'Ubuntu 20.04'\n",
    "flavor_name = 'm1.small'\n",
    "network_name = 'private-net'\n",
    "keypair_name = 'minha-chave-ssh'\n",
    "\n",
    "# Criar a VM\n",
    "vm = create_vm(vm_name, image_name, flavor_name, network_name, keypair_name)\n",
    "print(f\"A VM '{vm.name}' foi criada com sucesso, ID: {vm.id}\")\n"
   ]
  }
 ],
 "metadata": {
  "kernelspec": {
   "display_name": "Python 3",
   "language": "python",
   "name": "python3"
  },
  "language_info": {
   "codemirror_mode": {
    "name": "ipython",
    "version": 3
   },
   "file_extension": ".py",
   "mimetype": "text/x-python",
   "name": "python",
   "nbconvert_exporter": "python",
   "pygments_lexer": "ipython3",
   "version": "3.11.9"
  }
 },
 "nbformat": 4,
 "nbformat_minor": 2
}
